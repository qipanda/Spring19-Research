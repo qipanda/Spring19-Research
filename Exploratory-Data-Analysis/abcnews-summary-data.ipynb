{
 "cells": [
  {
   "cell_type": "code",
   "execution_count": 6,
   "metadata": {},
   "outputs": [],
   "source": [
    "# Enable inline matplotlib\n",
    "%matplotlib inline\n",
    "\n",
    "# Import packages\n",
    "import pandas as pd"
   ]
  },
  {
   "cell_type": "markdown",
   "metadata": {},
   "source": [
    "# Country Pair Counts"
   ]
  },
  {
   "cell_type": "code",
   "execution_count": 7,
   "metadata": {},
   "outputs": [
    {
     "data": {
      "text/plain": [
       "<matplotlib.axes._subplots.AxesSubplot at 0x1236879b0>"
      ]
     },
     "execution_count": 7,
     "metadata": {},
     "output_type": "execute_result"
    },
    {
     "data": {
      "image/png": "[encoded data removed]",
      "text/plain": [
       "<Figure size 432x288 with 1 Axes>"
      ]
     },
     "metadata": {},
     "output_type": "display_data"
    }
   ],
   "source": [
    "data = pd.read_csv(\"../Data/abcnews-clean.txt\", sep=\"\\t\")\n",
    "country_pair_counts = data.groupby([\"c1\", \"c2\"])[\"date\"].count().sort_values(ascending=False)\n",
    "country_pair_counts[:50].hist(bins=25)"
   ]
  },
  {
   "cell_type": "code",
   "execution_count": 8,
   "metadata": {},
   "outputs": [
    {
     "data": {
      "text/plain": [
       "c1   c2 \n",
       "USA  IRQ    1205\n",
       "ISR  PSE     817\n",
       "AUS  USA     555\n",
       "     IND     370\n",
       "     NZL     370\n",
       "     CHN     350\n",
       "USA  AUS     338\n",
       "     AFG     297\n",
       "IRQ  USA     290\n",
       "CHN  AUS     286\n",
       "AUS  IRQ     275\n",
       "     IDN     250\n",
       "IND  AUS     236\n",
       "USA  CHN     230\n",
       "     PRK     215\n",
       "     IRN     203\n",
       "AUS  AFG     192\n",
       "IDN  AUS     187\n",
       "AUS  PAK     182\n",
       "USA  SYR     176\n",
       "PRK  USA     174\n",
       "CHN  USA     171\n",
       "IND  PAK     168\n",
       "GBR  IRQ     161\n",
       "AUS  JPN     160\n",
       "IRN  USA     158\n",
       "USA  RUS     154\n",
       "NZL  AUS     135\n",
       "PSE  ISR     132\n",
       "AUS  LKA     120\n",
       "RUS  USA     118\n",
       "USA  PAK     109\n",
       "PSE  PSE     108\n",
       "ISR  LBN     106\n",
       "RUS  SYR     106\n",
       "JPN  CHN     105\n",
       "RUS  UKR     102\n",
       "AUS  THA      98\n",
       "TUR  IRQ      97\n",
       "USA  JPN      92\n",
       "PAK  IND      92\n",
       "AUS  FJI      91\n",
       "JPN  AUS      91\n",
       "AUS  SLB      89\n",
       "     GBR      83\n",
       "CHN  PRK      83\n",
       "     TWN      78\n",
       "USA  USA      77\n",
       "AUS  PHL      76\n",
       "CHN  CHN      76\n",
       "Name: date, dtype: int64"
      ]
     },
     "execution_count": 8,
     "metadata": {},
     "output_type": "execute_result"
    }
   ],
   "source": [
    "country_pair_counts[:50]"
   ]
  },
  {
   "cell_type": "markdown",
   "metadata": {},
   "source": [
    "# Context Length Statistics"
   ]
  },
  {
   "cell_type": "code",
   "execution_count": 9,
   "metadata": {},
   "outputs": [
    {
     "data": {
      "text/plain": [
       "<matplotlib.axes._subplots.AxesSubplot at 0x123578e80>"
      ]
     },
     "execution_count": 9,
     "metadata": {},
     "output_type": "execute_result"
    },
    {
     "data": {
      "image/png": "[encoded data removed]",
      "text/plain": [
       "<Figure size 432x288 with 1 Axes>"
      ]
     },
     "metadata": {},
     "output_type": "display_data"
    }
   ],
   "source": [
    "# Convert context datapoints into counts of tokens\n",
    "c1_l = data[\"c1_ctxt_l\"].apply(lambda x: 0 if pd.isna(x) else len(x.split(\",\")))\n",
    "c2_l = data[\"c2_ctxt_l\"].apply(lambda x: 0 if pd.isna(x) else len(x.split(\",\")))\n",
    "left = c1_l.append(c2_l)\n",
    "left.hist(bins=12)"
   ]
  },
  {
   "cell_type": "code",
   "execution_count": 10,
   "metadata": {},
   "outputs": [
    {
     "data": {
      "text/plain": [
       "<matplotlib.axes._subplots.AxesSubplot at 0x123534ac8>"
      ]
     },
     "execution_count": 10,
     "metadata": {},
     "output_type": "execute_result"
    },
    {
     "data": {
      "image/png": "[encoded data removed]",
      "text/plain": [
       "<Figure size 432x288 with 1 Axes>"
      ]
     },
     "metadata": {},
     "output_type": "display_data"
    }
   ],
   "source": [
    "# Convert context datapoints into counts of tokens\n",
    "c1_r = data[\"c1_ctxt_r\"].apply(lambda x: 0 if pd.isna(x) else len(x.split(\",\")))\n",
    "c2_r = data[\"c2_ctxt_r\"].apply(lambda x: 0 if pd.isna(x) else len(x.split(\",\")))\n",
    "right = c1_r.append(c2_r)\n",
    "right.hist(bins=12)"
   ]
  }
 ],
 "metadata": {
  "kernelspec": {
   "display_name": "Python 3",
   "language": "python",
   "name": "python3"
  },
  "language_info": {
   "codemirror_mode": {
    "name": "ipython",
    "version": 3
   },
   "file_extension": ".py",
   "mimetype": "text/x-python",
   "name": "python",
   "nbconvert_exporter": "python",
   "pygments_lexer": "ipython3",
   "version": "3.6.5"
  }
 },
 "nbformat": 4,
 "nbformat_minor": 2
}
