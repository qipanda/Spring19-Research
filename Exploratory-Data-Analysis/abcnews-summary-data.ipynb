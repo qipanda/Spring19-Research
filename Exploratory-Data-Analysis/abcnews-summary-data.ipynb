{
 "cells": [
  {
   "cell_type": "code",
   "execution_count": 1,
   "metadata": {},
   "outputs": [],
   "source": [
    "# Enable inline matplotlib\n",
    "%matplotlib inline\n",
    "\n",
    "# Import packages\n",
    "import pandas as pd"
   ]
  },
  {
   "cell_type": "markdown",
   "metadata": {},
   "source": [
    "# Country Pair Counts"
   ]
  },
  {
   "cell_type": "code",
   "execution_count": 2,
   "metadata": {},
   "outputs": [
    {
     "data": {
      "text/plain": [
       "<matplotlib.axes._subplots.AxesSubplot at 0x1205e7710>"
      ]
     },
     "execution_count": 2,
     "metadata": {},
     "output_type": "execute_result"
    },
    {
     "data": {
      "image/png": "[encoded data removed]",
      "text/plain": [
       "<Figure size 432x288 with 1 Axes>"
      ]
     },
     "metadata": {},
     "output_type": "display_data"
    }
   ],
   "source": [
    "data = pd.read_csv(\"../Data/abcnews-clean.txt\", sep=\"\\t\")\n",
    "country_pair_counts = data.groupby([\"c1\", \"c2\"])[\"date\"].count().sort_values(ascending=False)\n",
    "country_pair_counts[:50].hist(bins=25)"
   ]
  },
  {
   "cell_type": "code",
   "execution_count": 3,
   "metadata": {},
   "outputs": [
    {
     "data": {
      "text/plain": [
       "c1   c2    \n",
       "IRQ  USA       1495\n",
       "ISR  PSE        949\n",
       "AUS  USA        893\n",
       "     CHN        636\n",
       "     IND        606\n",
       "     NZL        505\n",
       "     IDN        437\n",
       "CHN  USA        401\n",
       "PRK  USA        389\n",
       "AFG  USA        364\n",
       "IRN  USA        361\n",
       "AUS  IRQ        332\n",
       "RUS  USA        272\n",
       "IND  PAK        260\n",
       "AUS  JPN        251\n",
       "     PAK        247\n",
       "AFG  AUS        234\n",
       "SYR  USA        228\n",
       "GBR  IRQ        186\n",
       "CHN  JPN        180\n",
       "AUS  LKA        175\n",
       "JPN  USA        167\n",
       "RUS  UKR        167\n",
       "PAK  USA        160\n",
       "CHN  TWN        146\n",
       "AUS  GBR        146\n",
       "     FJI        142\n",
       "     THA        140\n",
       "RUS  SYR        137\n",
       "ISR  LBN        126\n",
       "AUS  SLB        120\n",
       "GBR  USA        118\n",
       "CHN  PRK        117\n",
       "IRQ  TUR        112\n",
       "PSE  PSE        108\n",
       "ISR  USA        105\n",
       "CHN  CHNTIB     104\n",
       "AUS  PHL        104\n",
       "SYR  TUR         96\n",
       "AUS  FRA         95\n",
       "CUB  USA         94\n",
       "GEO  RUS         89\n",
       "AUS  SYR         88\n",
       "IRN  IRQ         84\n",
       "JPN  PRK         84\n",
       "AUS  MYS         84\n",
       "TUR  USA         81\n",
       "IRQ  SYR         80\n",
       "AUS  VNM         77\n",
       "KOR  USA         77\n",
       "Name: date, dtype: int64"
      ]
     },
     "execution_count": 3,
     "metadata": {},
     "output_type": "execute_result"
    }
   ],
   "source": [
    "country_pair_counts[:50]"
   ]
  },
  {
   "cell_type": "markdown",
   "metadata": {},
   "source": [
    "# Context Length Statistics"
   ]
  },
  {
   "cell_type": "code",
   "execution_count": 4,
   "metadata": {},
   "outputs": [
    {
     "data": {
      "text/plain": [
       "<matplotlib.axes._subplots.AxesSubplot at 0x11fd28908>"
      ]
     },
     "execution_count": 4,
     "metadata": {},
     "output_type": "execute_result"
    },
    {
     "data": {
      "image/png": "[encoded data removed]",
      "text/plain": [
       "<Figure size 432x288 with 1 Axes>"
      ]
     },
     "metadata": {},
     "output_type": "display_data"
    }
   ],
   "source": [
    "# Convert context datapoints into counts of tokens\n",
    "c1_l = data[\"c1_ctxt_l\"].apply(lambda x: 0 if pd.isna(x) else len(x.split(\",\")))\n",
    "c2_l = data[\"c2_ctxt_l\"].apply(lambda x: 0 if pd.isna(x) else len(x.split(\",\")))\n",
    "left = c1_l.append(c2_l)\n",
    "left.hist(bins=12)"
   ]
  },
  {
   "cell_type": "code",
   "execution_count": 5,
   "metadata": {},
   "outputs": [
    {
     "data": {
      "text/plain": [
       "<matplotlib.axes._subplots.AxesSubplot at 0x120ae72e8>"
      ]
     },
     "execution_count": 5,
     "metadata": {},
     "output_type": "execute_result"
    },
    {
     "data": {
      "image/png": "[encoded data removed]",
      "text/plain": [
       "<Figure size 432x288 with 1 Axes>"
      ]
     },
     "metadata": {},
     "output_type": "display_data"
    }
   ],
   "source": [
    "# Convert context datapoints into counts of tokens\n",
    "c1_r = data[\"c1_ctxt_r\"].apply(lambda x: 0 if pd.isna(x) else len(x.split(\",\")))\n",
    "c2_r = data[\"c2_ctxt_r\"].apply(lambda x: 0 if pd.isna(x) else len(x.split(\",\")))\n",
    "right = c1_r.append(c2_r)\n",
    "right.hist(bins=12)"
   ]
  }
 ],
 "metadata": {
  "kernelspec": {
   "display_name": "Python 3",
   "language": "python",
   "name": "python3"
  },
  "language_info": {
   "codemirror_mode": {
    "name": "ipython",
    "version": 3
   },
   "file_extension": ".py",
   "mimetype": "text/x-python",
   "name": "python",
   "nbconvert_exporter": "python",
   "pygments_lexer": "ipython3",
   "version": "3.6.5"
  }
 },
 "nbformat": 4,
 "nbformat_minor": 2
}
